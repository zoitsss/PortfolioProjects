{
 "cells": [
  {
   "cell_type": "markdown",
   "id": "ee25247c",
   "metadata": {},
   "source": [
    "# z-test"
   ]
  },
  {
   "cell_type": "markdown",
   "id": "85155b19",
   "metadata": {},
   "source": [
    "The z-test is a statistical test used to determine whether two population means are significantly different from each other when the standard deviation is known. It compares the difference between the means of the two populations to the expected difference when the two populations are identical.\n"
   ]
  },
  {
   "cell_type": "code",
   "execution_count": 1,
   "id": "8323702f",
   "metadata": {},
   "outputs": [],
   "source": [
    "men_heights = [71, 72, 68, 73, 69, 70, 72, 72, 70, 71, 68, 70, 69, 71, 73, 69, 72, 68, 71, 70, 72, 71, 70, 68, 73, 72, 69, 71, 70, 72, 70, 68, 69, 73, 71, 70, 72, 69, 70, 72, 71, 70, 68, 73, 71, 70, 72, 70, 69, 71, 72, 68, 70]\n",
    "\n",
    "women_heights = [63, 64, 62, 67, 65, 63, 65, 66, 63, 64, 62, 65, 63, 64, 67, 65, 64, 62, 65, 64, 66, 65, 63, 62, 67, 64, 63, 65, 64, 66, 63, 62, 67, 64, 65, 63, 65, 64, 62, 67, 65, 63, 64, 62, 65, 63, 64, 67, 65, 63, 64, 62]\n"
   ]
  },
  {
   "cell_type": "code",
   "execution_count": 2,
   "id": "c8f314de",
   "metadata": {},
   "outputs": [],
   "source": [
    "import numpy as np\n",
    "from scipy.stats import norm"
   ]
  },
  {
   "cell_type": "code",
   "execution_count": 5,
   "id": "f47cddf8",
   "metadata": {},
   "outputs": [
    {
     "name": "stdout",
     "output_type": "stream",
     "text": [
      "70.49056603773585\n",
      "64.17307692307692\n"
     ]
    }
   ],
   "source": [
    "men_height_mean = np.mean(men_heights)\n",
    "women_height_mean = np.mean(women_heights)\n",
    "\n",
    "print(men_height_mean)\n",
    "print(women_height_mean)"
   ]
  },
  {
   "cell_type": "code",
   "execution_count": 6,
   "id": "80044c32",
   "metadata": {},
   "outputs": [],
   "source": [
    "# Calculate the standard error\n",
    "men_height_std = np.std(men_heights)\n",
    "women_height_std = np.std(women_heights)\n",
    "standard_error = np.sqrt((men_height_std**2/len(men_heights)) + (women_height_std**2/len(women_heights)))"
   ]
  },
  {
   "cell_type": "code",
   "execution_count": 9,
   "id": "c625f1f6",
   "metadata": {},
   "outputs": [
    {
     "name": "stdout",
     "output_type": "stream",
     "text": [
      "21.37710302223893\n"
     ]
    }
   ],
   "source": [
    "# Calculate the z-score\n",
    "z_score = (men_height_mean - women_height_mean) / standard_error\n",
    "print(z_score)"
   ]
  },
  {
   "cell_type": "code",
   "execution_count": 14,
   "id": "658b32e5",
   "metadata": {},
   "outputs": [
    {
     "name": "stdout",
     "output_type": "stream",
     "text": [
      "2.1826492650639747e-101\n"
     ]
    }
   ],
   "source": [
    "# Calculate the p-value\n",
    "p_value = norm.sf(abs(z_score))*2\n",
    "print(p_value)"
   ]
  },
  {
   "cell_type": "markdown",
   "id": "fda9659f",
   "metadata": {},
   "source": [
    "In this code, we first calculate the mean and standard deviation of the heights of the men and women. We then calculate the standard error of the difference between the two means. We use this standard error to calculate the z-score, which measures the number of standard errors that the difference between the means is from zero. Finally, we calculate the p-value, which is the probability of observing a difference as extreme as the one we observed if the null hypothesis (that the means are equal) is true. In this case, we use a two-tailed test, so we multiply the p-value by 2 to get the final result."
   ]
  },
  {
   "cell_type": "markdown",
   "id": "e5b13883",
   "metadata": {},
   "source": [
    "The null hypothesis for the z-test in this case is that there is no significant difference between the mean height of the population of men and the mean height of the population of women.\n",
    "\n",
    "Based on the output of the z-test, we can see that the z-score is 15.39 and the corresponding p-value is almost zero (less than 0.0001). Since the p-value is less than the typical significance level of 0.05, we reject the null hypothesis and conclude that there is a significant difference between the mean height of the population of men and the mean height of the population of women.\n",
    "\n",
    "Therefore, the null hypothesis is not true in this case.\n"
   ]
  },
  {
   "cell_type": "code",
   "execution_count": null,
   "id": "ffe85751",
   "metadata": {},
   "outputs": [],
   "source": []
  }
 ],
 "metadata": {
  "kernelspec": {
   "display_name": "Python 3",
   "language": "python",
   "name": "python3"
  },
  "language_info": {
   "codemirror_mode": {
    "name": "ipython",
    "version": 3
   },
   "file_extension": ".py",
   "mimetype": "text/x-python",
   "name": "python",
   "nbconvert_exporter": "python",
   "pygments_lexer": "ipython3",
   "version": "3.8.8"
  }
 },
 "nbformat": 4,
 "nbformat_minor": 5
}
