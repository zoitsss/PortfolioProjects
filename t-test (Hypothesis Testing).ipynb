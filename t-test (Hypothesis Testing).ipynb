{
 "cells": [
  {
   "cell_type": "markdown",
   "id": "b0e55ffb",
   "metadata": {},
   "source": [
    "# One Sampled t-test\n"
   ]
  },
  {
   "cell_type": "code",
   "execution_count": 28,
   "id": "2a4d34b2",
   "metadata": {},
   "outputs": [],
   "source": [
    "import numpy as np\n",
    "import pandas as pd\n",
    "import scipy.stats as stats"
   ]
  },
  {
   "cell_type": "code",
   "execution_count": 5,
   "id": "170b9956",
   "metadata": {},
   "outputs": [],
   "source": [
    "ages=[10,20,35,50,28,40,55,18,16,55,30,25,43,18,30,28,14,24,16,17,32,35,26,27,65,18,43,23,21,20,19,70]\n"
   ]
  },
  {
   "cell_type": "code",
   "execution_count": 6,
   "id": "0e641bdf",
   "metadata": {},
   "outputs": [
    {
     "data": {
      "text/plain": [
       "32"
      ]
     },
     "execution_count": 6,
     "metadata": {},
     "output_type": "execute_result"
    }
   ],
   "source": [
    "len(ages)"
   ]
  },
  {
   "cell_type": "code",
   "execution_count": 7,
   "id": "dd657c85",
   "metadata": {},
   "outputs": [
    {
     "name": "stdout",
     "output_type": "stream",
     "text": [
      "30.34375\n"
     ]
    }
   ],
   "source": [
    "ages_mean=np.mean(ages)\n",
    "print(ages_mean)"
   ]
  },
  {
   "cell_type": "code",
   "execution_count": 8,
   "id": "8fc9347c",
   "metadata": {},
   "outputs": [],
   "source": [
    "## Lets take sample\n",
    "sample_size=10\n",
    "age_sample=np.random.choice(ages,sample_size)"
   ]
  },
  {
   "cell_type": "code",
   "execution_count": 9,
   "id": "91025746",
   "metadata": {},
   "outputs": [
    {
     "data": {
      "text/plain": [
       "array([30, 28, 30, 18, 50, 17, 50, 35, 16, 40])"
      ]
     },
     "execution_count": 9,
     "metadata": {},
     "output_type": "execute_result"
    }
   ],
   "source": [
    "age_sample"
   ]
  },
  {
   "cell_type": "code",
   "execution_count": 15,
   "id": "483a97dd",
   "metadata": {},
   "outputs": [],
   "source": [
    "from scipy.stats import ttest_1samp"
   ]
  },
  {
   "cell_type": "code",
   "execution_count": 11,
   "id": "cd443eb6",
   "metadata": {},
   "outputs": [],
   "source": [
    "ttest,p_value=ttest_1samp(age_sample,30)      # 30 here is the popuation mean i.e ttest_1samp(sam.data, popmean)"
   ]
  },
  {
   "cell_type": "code",
   "execution_count": 12,
   "id": "e65f879c",
   "metadata": {},
   "outputs": [
    {
     "name": "stdout",
     "output_type": "stream",
     "text": [
      "0.7324650660807723\n"
     ]
    }
   ],
   "source": [
    "print(p_value)"
   ]
  },
  {
   "cell_type": "code",
   "execution_count": 13,
   "id": "b2480e94",
   "metadata": {},
   "outputs": [
    {
     "name": "stdout",
     "output_type": "stream",
     "text": [
      "we are accepting null hypothesis\n"
     ]
    }
   ],
   "source": [
    "if p_value < 0.05:    # alpha value is 0.05 or 5%\n",
    "    print(\" we are rejecting null hypothesis\")\n",
    "else:\n",
    "    print(\"we are accepting null hypothesis\")"
   ]
  },
  {
   "cell_type": "markdown",
   "id": "e63eaf78",
   "metadata": {},
   "source": [
    "# Two Sampled t-test"
   ]
  },
  {
   "cell_type": "markdown",
   "id": "898b3ded",
   "metadata": {},
   "source": [
    "The Independent Samples t Test or 2-sample t-test compares the means of two independent groups in order to determine whether there is statistical evidence that the associated population means are significantly different. The Independent Samples t Test is a parametric test. This test is also known as: Independent t Test"
   ]
  },
  {
   "cell_type": "code",
   "execution_count": 17,
   "id": "e07cb740",
   "metadata": {},
   "outputs": [
    {
     "data": {
      "text/plain": [
       "50.63333333333333"
      ]
     },
     "execution_count": 17,
     "metadata": {},
     "output_type": "execute_result"
    }
   ],
   "source": [
    "np.random.seed(12)\n",
    "ClassB_ages=stats.poisson.rvs(loc=18,mu=33,size=60) #loc is first val, mu is mean, size is sample size\n",
    "ClassB_ages.mean()"
   ]
  },
  {
   "cell_type": "code",
   "execution_count": 19,
   "id": "251c6dfa",
   "metadata": {},
   "outputs": [],
   "source": [
    "classA_ages=stats.poisson.rvs(loc=18,mu=30,size=60)"
   ]
  },
  {
   "cell_type": "code",
   "execution_count": 21,
   "id": "8dfdf00e",
   "metadata": {},
   "outputs": [],
   "source": [
    "_,p_value=stats.ttest_ind(a=classA_ages,b=ClassB_ages,equal_var=False) # ttest_ind"
   ]
  },
  {
   "cell_type": "code",
   "execution_count": 22,
   "id": "7653c663",
   "metadata": {},
   "outputs": [
    {
     "name": "stdout",
     "output_type": "stream",
     "text": [
      "0.00148827761873106\n"
     ]
    }
   ],
   "source": [
    "print(p_value)"
   ]
  },
  {
   "cell_type": "code",
   "execution_count": 23,
   "id": "728b8891",
   "metadata": {},
   "outputs": [
    {
     "name": "stdout",
     "output_type": "stream",
     "text": [
      " we are rejecting null hypothesis\n"
     ]
    }
   ],
   "source": [
    "if p_value < 0.05:    # alpha value is 0.05 or 5%\n",
    "    print(\" we are rejecting null hypothesis\")\n",
    "else:\n",
    "    print(\"we are accepting null hypothesis\")"
   ]
  },
  {
   "cell_type": "markdown",
   "id": "9c031d79",
   "metadata": {},
   "source": [
    "# Paired t-test with python"
   ]
  },
  {
   "cell_type": "markdown",
   "id": "f4fa0c4a",
   "metadata": {},
   "source": [
    "When you want to check how different samples from the same group are, you can go for a paired T-test\n"
   ]
  },
  {
   "cell_type": "code",
   "execution_count": 24,
   "id": "fa6c16cd",
   "metadata": {},
   "outputs": [
    {
     "name": "stdout",
     "output_type": "stream",
     "text": [
      "[25, 30, 28, 35, 28, 34, 26, 29, 30, 26, 28, 32, 31, 30, 45]\n",
      "[25.65056793 23.96663484 33.09929495 34.50259688 22.9243432  30.06489822\n",
      " 16.6935255  28.57494424 23.69611891 24.17300315 32.4501934  32.44001222\n",
      " 32.12757231 41.9452304  47.20553787]\n"
     ]
    }
   ],
   "source": [
    "weight1=[25,30,28,35,28,34,26,29,30,26,28,32,31,30,45]\n",
    "weight2=weight1+stats.norm.rvs(scale=5,loc=-1.25,size=15)\n",
    "     \n",
    "print(weight1)\n",
    "print(weight2)"
   ]
  },
  {
   "cell_type": "code",
   "execution_count": 29,
   "id": "26143292",
   "metadata": {},
   "outputs": [],
   "source": [
    "weight_df=pd.DataFrame({\"weight_10\":np.array(weight1),\n",
    "                         \"weight_20\":np.array(weight2),\n",
    "                       \"weight_change\":np.array(weight2)-np.array(weight1)})\n"
   ]
  },
  {
   "cell_type": "code",
   "execution_count": 30,
   "id": "bc986b73",
   "metadata": {},
   "outputs": [
    {
     "data": {
      "text/html": [
       "<div>\n",
       "<style scoped>\n",
       "    .dataframe tbody tr th:only-of-type {\n",
       "        vertical-align: middle;\n",
       "    }\n",
       "\n",
       "    .dataframe tbody tr th {\n",
       "        vertical-align: top;\n",
       "    }\n",
       "\n",
       "    .dataframe thead th {\n",
       "        text-align: right;\n",
       "    }\n",
       "</style>\n",
       "<table border=\"1\" class=\"dataframe\">\n",
       "  <thead>\n",
       "    <tr style=\"text-align: right;\">\n",
       "      <th></th>\n",
       "      <th>weight_10</th>\n",
       "      <th>weight_20</th>\n",
       "      <th>weight_change</th>\n",
       "    </tr>\n",
       "  </thead>\n",
       "  <tbody>\n",
       "    <tr>\n",
       "      <th>0</th>\n",
       "      <td>25</td>\n",
       "      <td>25.650568</td>\n",
       "      <td>0.650568</td>\n",
       "    </tr>\n",
       "    <tr>\n",
       "      <th>1</th>\n",
       "      <td>30</td>\n",
       "      <td>23.966635</td>\n",
       "      <td>-6.033365</td>\n",
       "    </tr>\n",
       "    <tr>\n",
       "      <th>2</th>\n",
       "      <td>28</td>\n",
       "      <td>33.099295</td>\n",
       "      <td>5.099295</td>\n",
       "    </tr>\n",
       "    <tr>\n",
       "      <th>3</th>\n",
       "      <td>35</td>\n",
       "      <td>34.502597</td>\n",
       "      <td>-0.497403</td>\n",
       "    </tr>\n",
       "    <tr>\n",
       "      <th>4</th>\n",
       "      <td>28</td>\n",
       "      <td>22.924343</td>\n",
       "      <td>-5.075657</td>\n",
       "    </tr>\n",
       "    <tr>\n",
       "      <th>5</th>\n",
       "      <td>34</td>\n",
       "      <td>30.064898</td>\n",
       "      <td>-3.935102</td>\n",
       "    </tr>\n",
       "    <tr>\n",
       "      <th>6</th>\n",
       "      <td>26</td>\n",
       "      <td>16.693525</td>\n",
       "      <td>-9.306475</td>\n",
       "    </tr>\n",
       "    <tr>\n",
       "      <th>7</th>\n",
       "      <td>29</td>\n",
       "      <td>28.574944</td>\n",
       "      <td>-0.425056</td>\n",
       "    </tr>\n",
       "    <tr>\n",
       "      <th>8</th>\n",
       "      <td>30</td>\n",
       "      <td>23.696119</td>\n",
       "      <td>-6.303881</td>\n",
       "    </tr>\n",
       "    <tr>\n",
       "      <th>9</th>\n",
       "      <td>26</td>\n",
       "      <td>24.173003</td>\n",
       "      <td>-1.826997</td>\n",
       "    </tr>\n",
       "    <tr>\n",
       "      <th>10</th>\n",
       "      <td>28</td>\n",
       "      <td>32.450193</td>\n",
       "      <td>4.450193</td>\n",
       "    </tr>\n",
       "    <tr>\n",
       "      <th>11</th>\n",
       "      <td>32</td>\n",
       "      <td>32.440012</td>\n",
       "      <td>0.440012</td>\n",
       "    </tr>\n",
       "    <tr>\n",
       "      <th>12</th>\n",
       "      <td>31</td>\n",
       "      <td>32.127572</td>\n",
       "      <td>1.127572</td>\n",
       "    </tr>\n",
       "    <tr>\n",
       "      <th>13</th>\n",
       "      <td>30</td>\n",
       "      <td>41.945230</td>\n",
       "      <td>11.945230</td>\n",
       "    </tr>\n",
       "    <tr>\n",
       "      <th>14</th>\n",
       "      <td>45</td>\n",
       "      <td>47.205538</td>\n",
       "      <td>2.205538</td>\n",
       "    </tr>\n",
       "  </tbody>\n",
       "</table>\n",
       "</div>"
      ],
      "text/plain": [
       "    weight_10  weight_20  weight_change\n",
       "0          25  25.650568       0.650568\n",
       "1          30  23.966635      -6.033365\n",
       "2          28  33.099295       5.099295\n",
       "3          35  34.502597      -0.497403\n",
       "4          28  22.924343      -5.075657\n",
       "5          34  30.064898      -3.935102\n",
       "6          26  16.693525      -9.306475\n",
       "7          29  28.574944      -0.425056\n",
       "8          30  23.696119      -6.303881\n",
       "9          26  24.173003      -1.826997\n",
       "10         28  32.450193       4.450193\n",
       "11         32  32.440012       0.440012\n",
       "12         31  32.127572       1.127572\n",
       "13         30  41.945230      11.945230\n",
       "14         45  47.205538       2.205538"
      ]
     },
     "execution_count": 30,
     "metadata": {},
     "output_type": "execute_result"
    }
   ],
   "source": [
    "weight_df"
   ]
  },
  {
   "cell_type": "code",
   "execution_count": 33,
   "id": "58bd97e7",
   "metadata": {},
   "outputs": [
    {
     "name": "stdout",
     "output_type": "stream",
     "text": [
      "0.7228216295025017\n"
     ]
    }
   ],
   "source": [
    "_,p_value=stats.ttest_rel(a=weight1,b=weight2)   # ttest_rel i.e calculates ttest of two related samples of scores a & b\n",
    "     \n",
    "print(p_value)"
   ]
  },
  {
   "cell_type": "code",
   "execution_count": 34,
   "id": "3c8a096c",
   "metadata": {},
   "outputs": [
    {
     "name": "stdout",
     "output_type": "stream",
     "text": [
      "we are accepting null hypothesis\n"
     ]
    }
   ],
   "source": [
    "if p_value < 0.05:    # alpha value is 0.05 or 5%\n",
    "    print(\" we are rejecting null hypothesis\")\n",
    "else:\n",
    "    print(\"we are accepting null hypothesis\")"
   ]
  },
  {
   "cell_type": "code",
   "execution_count": null,
   "id": "955f5aaf",
   "metadata": {},
   "outputs": [],
   "source": []
  }
 ],
 "metadata": {
  "kernelspec": {
   "display_name": "Python 3",
   "language": "python",
   "name": "python3"
  },
  "language_info": {
   "codemirror_mode": {
    "name": "ipython",
    "version": 3
   },
   "file_extension": ".py",
   "mimetype": "text/x-python",
   "name": "python",
   "nbconvert_exporter": "python",
   "pygments_lexer": "ipython3",
   "version": "3.8.8"
  }
 },
 "nbformat": 4,
 "nbformat_minor": 5
}
